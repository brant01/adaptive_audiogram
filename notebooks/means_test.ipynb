{
 "cells": [
  {
   "cell_type": "code",
   "execution_count": 4,
   "metadata": {},
   "outputs": [],
   "source": [
    "import numpy as np\n",
    "import polars as pl \n",
    "from pathlib import Path\n",
    "import sys\n",
    "from typing import Optional \n",
    "\n",
    "# Dynamically add the project root to sys.path\n",
    "project_root = Path().resolve().parent  # Go up one level from notebooks\n",
    "if str(project_root) not in sys.path:\n",
    "    sys.path.insert(0, str(project_root))\n",
    "\n",
    "from src.utils.constants import FREQUENCIES\n"
   ]
  },
  {
   "cell_type": "code",
   "execution_count": 11,
   "metadata": {},
   "outputs": [],
   "source": [
    "def load_audiogram_data(path: Path = \"/Users/jasonbrant/python_projects/adaptive-audiogram/data/anonymized_cleaned_data.parquet\") -> pl.DataFrame:\n",
    "    \"\"\"\n",
    "    Load audiogram data from a CSV file.\n",
    "    \"\"\"\n",
    "    df = pl.read_parquet(path)\n",
    "    return df"
   ]
  },
  {
   "cell_type": "code",
   "execution_count": 20,
   "metadata": {},
   "outputs": [],
   "source": [
    "def compute_frequency_ear_means(\n",
    "    df: Optional[pl.DataFrame] = None, frequencies: list = FREQUENCIES\n",
    ") -> np.ndarray:\n",
    "    \"\"\"\n",
    "    Computes mean values per Frequency and Ear, returning as a 1D Numpy array.\n",
    "\n",
    "    Args:\n",
    "        df (Optional[pl.DataFrame]): Input Polars DataFrame with 'Frequency', 'Ear', and 'Value' columns.\n",
    "                                     If None, the default dataset will be loaded.\n",
    "        frequencies (list): List of frequency values to include.\n",
    "        default_value (float): Default value to fill for missing frequency-ear combinations.\n",
    "\n",
    "    Returns:\n",
    "        np.ndarray: 1D array of mean values in the order:\n",
    "                    [250_L, 250_R, 500_L, 500_R, ..., 8000_L, 8000_R].\n",
    "    \"\"\"\n",
    "    if df is None:\n",
    "        df = load_audiogram_data()\n",
    "\n",
    "    # Fill nulls with mean per Frequency and Ear\n",
    "    df_filled = df.with_columns(\n",
    "        pl.col(\"Value\").fill_null(pl.col(\"Value\").mean().over([\"Frequency\", \"Ear\"]))\n",
    "    )\n",
    "\n",
    "    # Filter to specified frequencies\n",
    "    df_filtered = df_filled.filter(pl.col(\"Frequency\").is_in(frequencies))\n",
    "\n",
    "    # Group by Frequency and Ear, compute means\n",
    "    df_grouped = (\n",
    "        df_filtered.group_by([\"Frequency\", \"Ear\"])\n",
    "        .agg(pl.col(\"Value\").mean().alias(\"Mean_Value\"))\n",
    "        .with_columns(\n",
    "            (pl.col(\"Frequency\").cast(pl.Utf8) + \"_\" + pl.col(\"Ear\")).alias(\"Freq_Ear\")\n",
    "        )\n",
    "    ).sort([\"Frequency\", \"Ear\"])\n",
    "    \n",
    "    return df_grouped[\"Mean_Value\"].to_numpy()\n"
   ]
  },
  {
   "cell_type": "code",
   "execution_count": 21,
   "metadata": {},
   "outputs": [
    {
     "name": "stdout",
     "output_type": "stream",
     "text": [
      "[17.42306374 17.03571961 22.61782892 22.20711297 23.67202301 23.18448536\n",
      " 30.33091908 29.19593821 36.46905178 34.93554267 48.15445128 46.81536024]\n"
     ]
    }
   ],
   "source": [
    "test = compute_frequency_ear_means()\n",
    "print(test)"
   ]
  }
 ],
 "metadata": {
  "kernelspec": {
   "display_name": ".venv",
   "language": "python",
   "name": "python3"
  },
  "language_info": {
   "codemirror_mode": {
    "name": "ipython",
    "version": 3
   },
   "file_extension": ".py",
   "mimetype": "text/x-python",
   "name": "python",
   "nbconvert_exporter": "python",
   "pygments_lexer": "ipython3",
   "version": "3.12.8"
  }
 },
 "nbformat": 4,
 "nbformat_minor": 2
}
