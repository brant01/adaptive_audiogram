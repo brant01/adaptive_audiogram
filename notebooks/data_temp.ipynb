{
 "cells": [
  {
   "cell_type": "code",
   "execution_count": 1,
   "metadata": {},
   "outputs": [],
   "source": [
    "import numpy as np\n",
    "from pathlib import Path\n",
    "import polars as pl\n",
    "import sys\n",
    "\n",
    "# current working directory\n",
    "cwd = Path.cwd()\n",
    "\n",
    "# parent directory (where you expect 'src/' might live)\n",
    "parent_dir = cwd.parent\n",
    "\n",
    "# Convert to string before appending to sys.path\n",
    "if str(parent_dir) not in sys.path:\n",
    "    sys.path.append(str(parent_dir))\n",
    "\n",
    "\n",
    "from src.models.bayes_model.bayesian_data import compute_frequency_means, compute_frequency_ear_means, get_covariance_matrix, get_covariance_ear_matrix"
   ]
  },
  {
   "cell_type": "code",
   "execution_count": 2,
   "metadata": {},
   "outputs": [
    {
     "name": "stdout",
     "output_type": "stream",
     "text": [
      "(1021671, 6)\n",
      "shape: (10, 6)\n",
      "┌────────────────┬───────┬────────┬───────────┬─────┬───────┐\n",
      "│ Audiogram_Date ┆ Value ┆ Region ┆ Frequency ┆ Ear ┆ pt_ID │\n",
      "│ ---            ┆ ---   ┆ ---    ┆ ---       ┆ --- ┆ ---   │\n",
      "│ date           ┆ i32   ┆ str    ┆ i32       ┆ str ┆ str   │\n",
      "╞════════════════╪═══════╪════════╪═══════════╪═════╪═══════╡\n",
      "│ 2019-01-18     ┆ 65    ┆ AUL    ┆ 250       ┆ L   ┆ 00001 │\n",
      "│ 2019-01-18     ┆ 60    ┆ AUL    ┆ 500       ┆ L   ┆ 00001 │\n",
      "│ 2019-01-18     ┆ 65    ┆ AUL    ┆ 1000      ┆ L   ┆ 00001 │\n",
      "│ 2019-01-18     ┆ 55    ┆ AUL    ┆ 2000      ┆ L   ┆ 00001 │\n",
      "│ 2019-01-18     ┆ 65    ┆ AUL    ┆ 4000      ┆ L   ┆ 00001 │\n",
      "│ 2019-01-18     ┆ 65    ┆ AUL    ┆ 8000      ┆ L   ┆ 00001 │\n",
      "│ 2019-01-18     ┆ 60    ┆ AUR    ┆ 250       ┆ R   ┆ 00001 │\n",
      "│ 2019-01-18     ┆ 60    ┆ AUR    ┆ 500       ┆ R   ┆ 00001 │\n",
      "│ 2019-01-18     ┆ 60    ┆ AUR    ┆ 1000      ┆ R   ┆ 00001 │\n",
      "│ 2019-01-18     ┆ 50    ┆ AUR    ┆ 2000      ┆ R   ┆ 00001 │\n",
      "└────────────────┴───────┴────────┴───────────┴─────┴───────┘\n"
     ]
    }
   ],
   "source": [
    "data_path = Path(\"../data/anonymized_cleaned_data.parquet\")\n",
    "\n",
    "df = pl.read_parquet(\n",
    "    data_path,  \n",
    "    )\n",
    "print(df.shape)\n",
    "\n",
    "print(df.head(10))\n"
   ]
  },
  {
   "cell_type": "code",
   "execution_count": 3,
   "metadata": {},
   "outputs": [
    {
     "data": {
      "text/html": [
       "<div><style>\n",
       ".dataframe > thead > tr,\n",
       ".dataframe > tbody > tr {\n",
       "  text-align: right;\n",
       "  white-space: pre-wrap;\n",
       "}\n",
       "</style>\n",
       "<small>shape: (11, 6)</small><table border=\"1\" class=\"dataframe\"><thead><tr><th>Frequency</th><th>min</th><th>max</th><th>mean</th><th>std</th><th>median</th></tr><tr><td>i32</td><td>i32</td><td>i32</td><td>f64</td><td>f64</td><td>f64</td></tr></thead><tbody><tr><td>250</td><td>-10</td><td>115</td><td>17.229425</td><td>17.740259</td><td>10.0</td></tr><tr><td>500</td><td>-10</td><td>120</td><td>22.412403</td><td>19.092871</td><td>15.0</td></tr><tr><td>750</td><td>-10</td><td>120</td><td>27.960675</td><td>20.007998</td><td>25.0</td></tr><tr><td>1000</td><td>-10</td><td>120</td><td>23.428288</td><td>21.205845</td><td>15.0</td></tr><tr><td>1500</td><td>-10</td><td>120</td><td>32.177011</td><td>21.918067</td><td>30.0</td></tr><tr><td>&hellip;</td><td>&hellip;</td><td>&hellip;</td><td>&hellip;</td><td>&hellip;</td><td>&hellip;</td></tr><tr><td>3000</td><td>-10</td><td>120</td><td>36.134339</td><td>24.190959</td><td>35.0</td></tr><tr><td>12000</td><td>-5</td><td>100</td><td>36.75876</td><td>24.388052</td><td>30.0</td></tr><tr><td>4000</td><td>-10</td><td>120</td><td>35.707011</td><td>25.820671</td><td>35.0</td></tr><tr><td>6000</td><td>-10</td><td>120</td><td>47.509009</td><td>27.917762</td><td>45.0</td></tr><tr><td>8000</td><td>-10</td><td>120</td><td>47.485036</td><td>30.697982</td><td>50.0</td></tr></tbody></table></div>"
      ],
      "text/plain": [
       "shape: (11, 6)\n",
       "┌───────────┬─────┬─────┬───────────┬───────────┬────────┐\n",
       "│ Frequency ┆ min ┆ max ┆ mean      ┆ std       ┆ median │\n",
       "│ ---       ┆ --- ┆ --- ┆ ---       ┆ ---       ┆ ---    │\n",
       "│ i32       ┆ i32 ┆ i32 ┆ f64       ┆ f64       ┆ f64    │\n",
       "╞═══════════╪═════╪═════╪═══════════╪═══════════╪════════╡\n",
       "│ 250       ┆ -10 ┆ 115 ┆ 17.229425 ┆ 17.740259 ┆ 10.0   │\n",
       "│ 500       ┆ -10 ┆ 120 ┆ 22.412403 ┆ 19.092871 ┆ 15.0   │\n",
       "│ 750       ┆ -10 ┆ 120 ┆ 27.960675 ┆ 20.007998 ┆ 25.0   │\n",
       "│ 1000      ┆ -10 ┆ 120 ┆ 23.428288 ┆ 21.205845 ┆ 15.0   │\n",
       "│ 1500      ┆ -10 ┆ 120 ┆ 32.177011 ┆ 21.918067 ┆ 30.0   │\n",
       "│ …         ┆ …   ┆ …   ┆ …         ┆ …         ┆ …      │\n",
       "│ 3000      ┆ -10 ┆ 120 ┆ 36.134339 ┆ 24.190959 ┆ 35.0   │\n",
       "│ 12000     ┆ -5  ┆ 100 ┆ 36.75876  ┆ 24.388052 ┆ 30.0   │\n",
       "│ 4000      ┆ -10 ┆ 120 ┆ 35.707011 ┆ 25.820671 ┆ 35.0   │\n",
       "│ 6000      ┆ -10 ┆ 120 ┆ 47.509009 ┆ 27.917762 ┆ 45.0   │\n",
       "│ 8000      ┆ -10 ┆ 120 ┆ 47.485036 ┆ 30.697982 ┆ 50.0   │\n",
       "└───────────┴─────┴─────┴───────────┴───────────┴────────┘"
      ]
     },
     "execution_count": 3,
     "metadata": {},
     "output_type": "execute_result"
    }
   ],
   "source": [
    "# min, max, mean, std, median, 25%, 50%, 75% for Value by Frequency\n",
    "summary = (\n",
    "    df.group_by([\"Frequency\"])\n",
    "    .agg(\n",
    "        pl.min(\"Value\").alias(\"min\"),\n",
    "        pl.max(\"Value\").alias(\"max\"),\n",
    "        pl.mean(\"Value\").alias(\"mean\"),\n",
    "        pl.std(\"Value\").alias(\"std\"),\n",
    "        pl.median(\"Value\").alias(\"median\"),\n",
    "    ).sort(\"std\")\n",
    ")\n",
    "\n",
    "summary"
   ]
  },
  {
   "cell_type": "code",
   "execution_count": 4,
   "metadata": {},
   "outputs": [
    {
     "data": {
      "text/html": [
       "<div><style>\n",
       ".dataframe > thead > tr,\n",
       ".dataframe > tbody > tr {\n",
       "  text-align: right;\n",
       "  white-space: pre-wrap;\n",
       "}\n",
       "</style>\n",
       "<small>shape: (10, 2)</small><table border=\"1\" class=\"dataframe\"><thead><tr><th>Frequency</th><th>Mean</th></tr><tr><td>i32</td><td>f64</td></tr></thead><tbody><tr><td>250</td><td>17.229425</td></tr><tr><td>500</td><td>22.412403</td></tr><tr><td>750</td><td>27.960675</td></tr><tr><td>1000</td><td>23.428288</td></tr><tr><td>1500</td><td>32.177011</td></tr><tr><td>2000</td><td>29.765317</td></tr><tr><td>3000</td><td>36.134339</td></tr><tr><td>4000</td><td>35.707011</td></tr><tr><td>6000</td><td>47.509009</td></tr><tr><td>8000</td><td>47.485036</td></tr></tbody></table></div>"
      ],
      "text/plain": [
       "shape: (10, 2)\n",
       "┌───────────┬───────────┐\n",
       "│ Frequency ┆ Mean      │\n",
       "│ ---       ┆ ---       │\n",
       "│ i32       ┆ f64       │\n",
       "╞═══════════╪═══════════╡\n",
       "│ 250       ┆ 17.229425 │\n",
       "│ 500       ┆ 22.412403 │\n",
       "│ 750       ┆ 27.960675 │\n",
       "│ 1000      ┆ 23.428288 │\n",
       "│ 1500      ┆ 32.177011 │\n",
       "│ 2000      ┆ 29.765317 │\n",
       "│ 3000      ┆ 36.134339 │\n",
       "│ 4000      ┆ 35.707011 │\n",
       "│ 6000      ┆ 47.509009 │\n",
       "│ 8000      ┆ 47.485036 │\n",
       "└───────────┴───────────┘"
      ]
     },
     "execution_count": 4,
     "metadata": {},
     "output_type": "execute_result"
    }
   ],
   "source": [
    "# df of the means of the frequencies\n",
    "df_means = (\n",
    "    df.group_by(\"Frequency\")\n",
    "    .agg(\n",
    "        pl.col(\"Value\").mean().alias(\"Mean\"),\n",
    "    )\n",
    "    .sort(\"Frequency\")\n",
    ")\n",
    "\n",
    "df_means.head(10)"
   ]
  },
  {
   "cell_type": "code",
   "execution_count": 5,
   "metadata": {},
   "outputs": [
    {
     "name": "stdout",
     "output_type": "stream",
     "text": [
      "[17.22942487 22.41240264 23.4282879  29.76531678 35.70701131 47.48503616]\n"
     ]
    }
   ],
   "source": [
    "means = compute_frequency_means(df)\n",
    "\n",
    "print(means)"
   ]
  },
  {
   "cell_type": "code",
   "execution_count": 6,
   "metadata": {},
   "outputs": [
    {
     "data": {
      "text/html": [
       "<div><style>\n",
       ".dataframe > thead > tr,\n",
       ".dataframe > tbody > tr {\n",
       "  text-align: right;\n",
       "  white-space: pre-wrap;\n",
       "}\n",
       "</style>\n",
       "<small>shape: (10, 3)</small><table border=\"1\" class=\"dataframe\"><thead><tr><th>Frequency</th><th>Ear</th><th>Mean</th></tr><tr><td>i32</td><td>str</td><td>f64</td></tr></thead><tbody><tr><td>250</td><td>&quot;L&quot;</td><td>17.423064</td></tr><tr><td>250</td><td>&quot;R&quot;</td><td>17.03572</td></tr><tr><td>500</td><td>&quot;R&quot;</td><td>22.207113</td></tr><tr><td>500</td><td>&quot;L&quot;</td><td>22.617829</td></tr><tr><td>750</td><td>&quot;L&quot;</td><td>28.208511</td></tr><tr><td>750</td><td>&quot;R&quot;</td><td>27.708976</td></tr><tr><td>1000</td><td>&quot;R&quot;</td><td>23.184485</td></tr><tr><td>1000</td><td>&quot;L&quot;</td><td>23.672023</td></tr><tr><td>1500</td><td>&quot;R&quot;</td><td>31.752519</td></tr><tr><td>1500</td><td>&quot;L&quot;</td><td>32.591616</td></tr></tbody></table></div>"
      ],
      "text/plain": [
       "shape: (10, 3)\n",
       "┌───────────┬─────┬───────────┐\n",
       "│ Frequency ┆ Ear ┆ Mean      │\n",
       "│ ---       ┆ --- ┆ ---       │\n",
       "│ i32       ┆ str ┆ f64       │\n",
       "╞═══════════╪═════╪═══════════╡\n",
       "│ 250       ┆ L   ┆ 17.423064 │\n",
       "│ 250       ┆ R   ┆ 17.03572  │\n",
       "│ 500       ┆ R   ┆ 22.207113 │\n",
       "│ 500       ┆ L   ┆ 22.617829 │\n",
       "│ 750       ┆ L   ┆ 28.208511 │\n",
       "│ 750       ┆ R   ┆ 27.708976 │\n",
       "│ 1000      ┆ R   ┆ 23.184485 │\n",
       "│ 1000      ┆ L   ┆ 23.672023 │\n",
       "│ 1500      ┆ R   ┆ 31.752519 │\n",
       "│ 1500      ┆ L   ┆ 32.591616 │\n",
       "└───────────┴─────┴───────────┘"
      ]
     },
     "execution_count": 6,
     "metadata": {},
     "output_type": "execute_result"
    }
   ],
   "source": [
    "# df of the means of the frequencies by ear\n",
    "df_means = (\n",
    "    df.group_by([\"Frequency\", \"Ear\"])\n",
    "    .agg(\n",
    "        pl.col(\"Value\").mean().alias(\"Mean\"),\n",
    "    )\n",
    "    .sort(\"Frequency\")\n",
    ")\n",
    "\n",
    "df_means.head(10)"
   ]
  },
  {
   "cell_type": "code",
   "execution_count": 7,
   "metadata": {},
   "outputs": [
    {
     "name": "stdout",
     "output_type": "stream",
     "text": [
      "[17.42306374 17.03571961 22.61782892 22.20711297 23.67202301 23.18448536\n",
      " 30.33091908 29.19593821 36.46905178 34.93554267 48.15445128 46.81536024]\n"
     ]
    }
   ],
   "source": [
    "means_ear = compute_frequency_ear_means(df)\n",
    "\n",
    "print(means_ear)"
   ]
  },
  {
   "cell_type": "code",
   "execution_count": 8,
   "metadata": {},
   "outputs": [],
   "source": [
    "cov_matrix = get_covariance_matrix(df)"
   ]
  },
  {
   "cell_type": "code",
   "execution_count": 9,
   "metadata": {},
   "outputs": [
    {
     "data": {
      "text/plain": [
       "array([[650.25072456, 294.19446915, 227.16872779, 673.60512091,\n",
       "        371.39169988, 509.77115608],\n",
       "       [294.19446915, 319.56538467, 258.663569  , 326.02268479,\n",
       "        327.31899996, 321.71942754],\n",
       "       [227.16872779, 258.663569  , 251.57386271, 246.99178732,\n",
       "        261.54783011, 249.16179364],\n",
       "       [673.60512091, 326.02268479, 246.99178732, 940.35360749,\n",
       "        399.03256286, 539.38661648],\n",
       "       [371.39169988, 327.31899996, 261.54783011, 399.03256286,\n",
       "        402.67815564, 405.18339948],\n",
       "       [509.77115608, 321.71942754, 249.16179364, 539.38661648,\n",
       "        405.18339948, 533.69703649]])"
      ]
     },
     "execution_count": 9,
     "metadata": {},
     "output_type": "execute_result"
    }
   ],
   "source": [
    "cov_matrix"
   ]
  },
  {
   "cell_type": "code",
   "execution_count": 10,
   "metadata": {},
   "outputs": [
    {
     "data": {
      "text/plain": [
       "array([[247.79255253, 135.93165188, 255.29611162, 143.33840997,\n",
       "        257.61238518, 149.68553262, 244.45669881, 148.66874321,\n",
       "        221.73673292, 142.82137388, 241.92502998, 159.63394045],\n",
       "       [135.93165188, 245.73380136, 143.46382652, 251.87582018,\n",
       "        150.15060514, 254.23214294, 148.34296727, 243.06245539,\n",
       "        139.61681162, 222.24777055, 153.0947855 , 243.78270035],\n",
       "       [255.29611162, 143.46382652, 316.53634154, 186.09202244,\n",
       "        324.2051147 , 199.33804325, 317.4506557 , 207.38749405,\n",
       "        288.90872998, 198.92857034, 320.88131799, 227.21472316],\n",
       "       [143.33840997, 251.87582018, 186.09202244, 311.33405643,\n",
       "        200.51773173, 317.59936662, 207.16526396, 313.64398321,\n",
       "        195.70721676, 287.79426441, 220.54180292, 322.17889044],\n",
       "       [257.61238518, 150.15060514, 324.2051147 , 200.51773173,\n",
       "        401.07029851, 257.01307254, 402.03762624, 277.08718007,\n",
       "        366.8168312 , 266.08316877, 394.47993436, 292.97529785],\n",
       "       [149.68553262, 254.23214294, 199.33804325, 317.59936662,\n",
       "        257.01307254, 388.89002342, 274.52839118, 393.20806778,\n",
       "        259.49830365, 361.73104192, 282.09993281, 392.8065575 ],\n",
       "       [244.45669881, 148.34296727, 317.4506557 , 207.16526396,\n",
       "        402.03762624, 274.52839118, 532.50825571, 383.0402026 ,\n",
       "        507.98048863, 395.01914718, 538.16682667, 424.47924922],\n",
       "       [148.66874321, 243.06245539, 207.38749405, 313.64398321,\n",
       "        277.08718007, 393.20806778, 383.0402026 , 519.44585061,\n",
       "        382.46642613, 496.86144624, 408.53442938, 529.69442711],\n",
       "       [221.73673292, 139.61681162, 288.90872998, 195.70721676,\n",
       "        366.8168312 , 259.49830365, 507.98048863, 382.46642613,\n",
       "        648.3860509 , 512.45206006, 673.4271601 , 547.21072395],\n",
       "       [142.82137388, 222.24777055, 198.92857034, 287.79426441,\n",
       "        266.08316877, 361.73104192, 395.01914718, 496.86144624,\n",
       "        512.45206006, 638.2741047 , 539.29745036, 663.73779499],\n",
       "       [241.92502998, 153.0947855 , 320.88131799, 220.54180292,\n",
       "        394.47993436, 282.09993281, 538.16682667, 408.53442938,\n",
       "        673.4271601 , 539.29745036, 940.70551922, 732.59838102],\n",
       "       [159.63394045, 243.78270035, 227.21472316, 322.17889044,\n",
       "        292.97529785, 392.8065575 , 424.47924922, 529.69442711,\n",
       "        547.21072395, 663.73779499, 732.59838102, 933.2837402 ]])"
      ]
     },
     "execution_count": 10,
     "metadata": {},
     "output_type": "execute_result"
    }
   ],
   "source": [
    "cov_ear_matrix = get_covariance_ear_matrix(df)\n",
    "cov_ear_matrix"
   ]
  },
  {
   "cell_type": "code",
   "execution_count": 11,
   "metadata": {},
   "outputs": [
    {
     "name": "stdout",
     "output_type": "stream",
     "text": [
      "Matrix Symmetric: True\n"
     ]
    }
   ],
   "source": [
    "is_symmetric = np.allclose(cov_matrix, cov_matrix.T)\n",
    "print(\"Matrix Symmetric:\", is_symmetric)"
   ]
  },
  {
   "cell_type": "code",
   "execution_count": 15,
   "metadata": {},
   "outputs": [
    {
     "data": {
      "text/plain": [
       "True"
      ]
     },
     "execution_count": 15,
     "metadata": {},
     "output_type": "execute_result"
    }
   ],
   "source": [
    "# check if a number is even including 0\n",
    "0 % 2 == 0"
   ]
  }
 ],
 "metadata": {
  "kernelspec": {
   "display_name": ".venv",
   "language": "python",
   "name": "python3"
  },
  "language_info": {
   "codemirror_mode": {
    "name": "ipython",
    "version": 3
   },
   "file_extension": ".py",
   "mimetype": "text/x-python",
   "name": "python",
   "nbconvert_exporter": "python",
   "pygments_lexer": "ipython3",
   "version": "3.12.8"
  }
 },
 "nbformat": 4,
 "nbformat_minor": 2
}
